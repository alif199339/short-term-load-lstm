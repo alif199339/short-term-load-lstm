{
 "cells": [
  {
   "cell_type": "code",
   "execution_count": 1,
   "id": "d4044b7a",
   "metadata": {
    "execution": {
     "iopub.execute_input": "2025-08-06T05:22:43.642735Z",
     "iopub.status.busy": "2025-08-06T05:22:43.642470Z",
     "iopub.status.idle": "2025-08-06T05:23:00.115068Z",
     "shell.execute_reply": "2025-08-06T05:23:00.114157Z"
    },
    "papermill": {
     "duration": 16.478667,
     "end_time": "2025-08-06T05:23:00.116854",
     "exception": false,
     "start_time": "2025-08-06T05:22:43.638187",
     "status": "completed"
    },
    "tags": []
   },
   "outputs": [
    {
     "name": "stderr",
     "output_type": "stream",
     "text": [
      "2025-08-06 05:22:48.102223: E external/local_xla/xla/stream_executor/cuda/cuda_fft.cc:477] Unable to register cuFFT factory: Attempting to register factory for plugin cuFFT when one has already been registered\n",
      "WARNING: All log messages before absl::InitializeLog() is called are written to STDERR\n",
      "E0000 00:00:1754457768.300281      19 cuda_dnn.cc:8310] Unable to register cuDNN factory: Attempting to register factory for plugin cuDNN when one has already been registered\n",
      "E0000 00:00:1754457768.353736      19 cuda_blas.cc:1418] Unable to register cuBLAS factory: Attempting to register factory for plugin cuBLAS when one has already been registered\n"
     ]
    }
   ],
   "source": [
    "import pandas as pd\n",
    "import numpy as np\n",
    "from sklearn.preprocessing import MinMaxScaler\n",
    "from sklearn.model_selection import train_test_split\n",
    "from tensorflow.keras.models import Sequential\n",
    "from tensorflow.keras.layers import LSTM, Dense,Dropout\n",
    "from tensorflow.keras.callbacks import EarlyStopping, ModelCheckpoint\n",
    "from tensorflow.keras.optimizers import RMSprop"
   ]
  },
  {
   "cell_type": "code",
   "execution_count": 2,
   "id": "91ef8ebb",
   "metadata": {
    "execution": {
     "iopub.execute_input": "2025-08-06T05:23:00.124500Z",
     "iopub.status.busy": "2025-08-06T05:23:00.123580Z",
     "iopub.status.idle": "2025-08-06T05:23:00.320707Z",
     "shell.execute_reply": "2025-08-06T05:23:00.319817Z"
    },
    "papermill": {
     "duration": 0.202136,
     "end_time": "2025-08-06T05:23:00.322269",
     "exception": false,
     "start_time": "2025-08-06T05:23:00.120133",
     "status": "completed"
    },
    "tags": []
   },
   "outputs": [],
   "source": [
    "final_df=pd.read_csv(\"/kaggle/input/final-df/final_df_processed.csv\")"
   ]
  },
  {
   "cell_type": "code",
   "execution_count": 3,
   "id": "43c67099",
   "metadata": {
    "execution": {
     "iopub.execute_input": "2025-08-06T05:23:00.329258Z",
     "iopub.status.busy": "2025-08-06T05:23:00.328967Z",
     "iopub.status.idle": "2025-08-06T05:23:00.369832Z",
     "shell.execute_reply": "2025-08-06T05:23:00.369146Z"
    },
    "papermill": {
     "duration": 0.045981,
     "end_time": "2025-08-06T05:23:00.371249",
     "exception": false,
     "start_time": "2025-08-06T05:23:00.325268",
     "status": "completed"
    },
    "tags": []
   },
   "outputs": [],
   "source": [
    "# Step 1: Drop missing values\n",
    "df = final_df.dropna()\n",
    "\n",
    "# Step 2: Features and target\n",
    "features = ['Carga Real_forecast', 'temperature_loc1', 'temperature_loc2', 'temperature_loc3']\n",
    "target = 'Carga Real_actual'\n",
    "\n",
    "# Step 3: Normalize\n",
    "scaler_X = MinMaxScaler()\n",
    "scaler_y = MinMaxScaler()\n",
    "\n",
    "X_scaled = scaler_X.fit_transform(df[features])\n",
    "y_scaled = scaler_y.fit_transform(df[[target]])"
   ]
  },
  {
   "cell_type": "code",
   "execution_count": 4,
   "id": "f9bc2c9b",
   "metadata": {
    "execution": {
     "iopub.execute_input": "2025-08-06T05:23:00.378296Z",
     "iopub.status.busy": "2025-08-06T05:23:00.377568Z",
     "iopub.status.idle": "2025-08-06T05:23:00.399254Z",
     "shell.execute_reply": "2025-08-06T05:23:00.398354Z"
    },
    "papermill": {
     "duration": 0.026655,
     "end_time": "2025-08-06T05:23:00.400788",
     "exception": false,
     "start_time": "2025-08-06T05:23:00.374133",
     "status": "completed"
    },
    "tags": []
   },
   "outputs": [
    {
     "data": {
      "text/html": [
       "<div>\n",
       "<style scoped>\n",
       "    .dataframe tbody tr th:only-of-type {\n",
       "        vertical-align: middle;\n",
       "    }\n",
       "\n",
       "    .dataframe tbody tr th {\n",
       "        vertical-align: top;\n",
       "    }\n",
       "\n",
       "    .dataframe thead th {\n",
       "        text-align: right;\n",
       "    }\n",
       "</style>\n",
       "<table border=\"1\" class=\"dataframe\">\n",
       "  <thead>\n",
       "    <tr style=\"text-align: right;\">\n",
       "      <th></th>\n",
       "      <th>Fecha Hora</th>\n",
       "      <th>Carga Real_actual</th>\n",
       "      <th>Carga Real_forecast</th>\n",
       "      <th>temperature_loc1</th>\n",
       "      <th>temperature_loc2</th>\n",
       "      <th>temperature_loc3</th>\n",
       "    </tr>\n",
       "  </thead>\n",
       "  <tbody>\n",
       "    <tr>\n",
       "      <th>0</th>\n",
       "      <td>2016-01-02 00:00:00</td>\n",
       "      <td>1004.4597</td>\n",
       "      <td>1056.9</td>\n",
       "      <td>296.89752</td>\n",
       "      <td>298.60065</td>\n",
       "      <td>300.06940</td>\n",
       "    </tr>\n",
       "    <tr>\n",
       "      <th>1</th>\n",
       "      <td>2016-01-02 00:00:00</td>\n",
       "      <td>1004.4597</td>\n",
       "      <td>1056.9</td>\n",
       "      <td>296.89752</td>\n",
       "      <td>298.60846</td>\n",
       "      <td>300.06940</td>\n",
       "    </tr>\n",
       "    <tr>\n",
       "      <th>2</th>\n",
       "      <td>2016-01-02 01:00:00</td>\n",
       "      <td>978.7889</td>\n",
       "      <td>1057.1</td>\n",
       "      <td>296.63240</td>\n",
       "      <td>298.23395</td>\n",
       "      <td>299.85895</td>\n",
       "    </tr>\n",
       "    <tr>\n",
       "      <th>3</th>\n",
       "      <td>2016-01-02 01:00:00</td>\n",
       "      <td>978.7889</td>\n",
       "      <td>1057.1</td>\n",
       "      <td>296.63240</td>\n",
       "      <td>298.21832</td>\n",
       "      <td>299.85895</td>\n",
       "    </tr>\n",
       "    <tr>\n",
       "      <th>4</th>\n",
       "      <td>2016-01-02 02:00:00</td>\n",
       "      <td>954.4416</td>\n",
       "      <td>996.5</td>\n",
       "      <td>296.53757</td>\n",
       "      <td>297.95944</td>\n",
       "      <td>299.68600</td>\n",
       "    </tr>\n",
       "  </tbody>\n",
       "</table>\n",
       "</div>"
      ],
      "text/plain": [
       "            Fecha Hora  Carga Real_actual  Carga Real_forecast  \\\n",
       "0  2016-01-02 00:00:00          1004.4597               1056.9   \n",
       "1  2016-01-02 00:00:00          1004.4597               1056.9   \n",
       "2  2016-01-02 01:00:00           978.7889               1057.1   \n",
       "3  2016-01-02 01:00:00           978.7889               1057.1   \n",
       "4  2016-01-02 02:00:00           954.4416                996.5   \n",
       "\n",
       "   temperature_loc1  temperature_loc2  temperature_loc3  \n",
       "0         296.89752         298.60065         300.06940  \n",
       "1         296.89752         298.60846         300.06940  \n",
       "2         296.63240         298.23395         299.85895  \n",
       "3         296.63240         298.21832         299.85895  \n",
       "4         296.53757         297.95944         299.68600  "
      ]
     },
     "execution_count": 4,
     "metadata": {},
     "output_type": "execute_result"
    }
   ],
   "source": [
    "df.head()"
   ]
  },
  {
   "cell_type": "code",
   "execution_count": 5,
   "id": "626839df",
   "metadata": {
    "execution": {
     "iopub.execute_input": "2025-08-06T05:23:00.408090Z",
     "iopub.status.busy": "2025-08-06T05:23:00.407847Z",
     "iopub.status.idle": "2025-08-06T05:23:00.597477Z",
     "shell.execute_reply": "2025-08-06T05:23:00.596470Z"
    },
    "papermill": {
     "duration": 0.195176,
     "end_time": "2025-08-06T05:23:00.599160",
     "exception": false,
     "start_time": "2025-08-06T05:23:00.403984",
     "status": "completed"
    },
    "tags": []
   },
   "outputs": [],
   "source": [
    "\n",
    "# Step 4: Create sequences\n",
    "def create_sequences(X, y, seq_len):\n",
    "    Xs, ys = [], []\n",
    "    for i in range(len(X) - seq_len):\n",
    "        Xs.append(X[i:i+seq_len])\n",
    "        ys.append(y[i+seq_len])\n",
    "    return np.array(Xs), np.array(ys)\n",
    "\n",
    "seq_len = 24\n",
    "X_seq, y_seq = create_sequences(X_scaled, y_scaled, seq_len)\n",
    "\n",
    "# Step 5: Train/test split\n",
    "X_train, X_test, y_train, y_test = train_test_split(X_seq, y_seq, test_size=0.2, shuffle=False)\n"
   ]
  },
  {
   "cell_type": "code",
   "execution_count": 6,
   "id": "06c6b0f5",
   "metadata": {
    "execution": {
     "iopub.execute_input": "2025-08-06T05:23:00.606201Z",
     "iopub.status.busy": "2025-08-06T05:23:00.605910Z",
     "iopub.status.idle": "2025-08-06T05:23:00.611795Z",
     "shell.execute_reply": "2025-08-06T05:23:00.610744Z"
    },
    "papermill": {
     "duration": 0.010704,
     "end_time": "2025-08-06T05:23:00.613040",
     "exception": false,
     "start_time": "2025-08-06T05:23:00.602336",
     "status": "completed"
    },
    "tags": []
   },
   "outputs": [
    {
     "data": {
      "text/plain": [
       "\"\\n# Step 6: LSTM model\\nmodel = Sequential([\\n    LSTM(64, input_shape=(X_train.shape[1], X_train.shape[2])),\\n    Dense(1)\\n])\\nmodel.compile(optimizer='adam', loss='mse')\\n\\n# Step 7: Training\\nmodel.fit(X_train, y_train, epochs=20, batch_size=32, validation_split=0.1, verbose=1)\\n\\n# Step 8: Prediction and inverse transform\\ny_pred_scaled = model.predict(X_test)\\ny_pred = scaler_y.inverse_transform(y_pred_scaled)\\ny_true = scaler_y.inverse_transform(y_test)\\n\\n# Step 9: Results as DataFrame\\nresults = pd.DataFrame({\\n    'Actual Load': y_true.flatten(),\\n    'Predicted Load': y_pred.flatten()\\n})\\nresults.head()\\n\""
      ]
     },
     "execution_count": 6,
     "metadata": {},
     "output_type": "execute_result"
    }
   ],
   "source": [
    "'''\n",
    "# Step 6: LSTM model\n",
    "model = Sequential([\n",
    "    LSTM(64, input_shape=(X_train.shape[1], X_train.shape[2])),\n",
    "    Dense(1)\n",
    "])\n",
    "model.compile(optimizer='adam', loss='mse')\n",
    "\n",
    "# Step 7: Training\n",
    "model.fit(X_train, y_train, epochs=20, batch_size=32, validation_split=0.1, verbose=1)\n",
    "\n",
    "# Step 8: Prediction and inverse transform\n",
    "y_pred_scaled = model.predict(X_test)\n",
    "y_pred = scaler_y.inverse_transform(y_pred_scaled)\n",
    "y_true = scaler_y.inverse_transform(y_test)\n",
    "\n",
    "# Step 9: Results as DataFrame\n",
    "results = pd.DataFrame({\n",
    "    'Actual Load': y_true.flatten(),\n",
    "    'Predicted Load': y_pred.flatten()\n",
    "})\n",
    "results.head()\n",
    "'''"
   ]
  },
  {
   "cell_type": "code",
   "execution_count": 7,
   "id": "91ad1008",
   "metadata": {
    "execution": {
     "iopub.execute_input": "2025-08-06T05:23:00.619737Z",
     "iopub.status.busy": "2025-08-06T05:23:00.619490Z",
     "iopub.status.idle": "2025-08-06T05:23:00.623917Z",
     "shell.execute_reply": "2025-08-06T05:23:00.623349Z"
    },
    "papermill": {
     "duration": 0.009005,
     "end_time": "2025-08-06T05:23:00.625044",
     "exception": false,
     "start_time": "2025-08-06T05:23:00.616039",
     "status": "completed"
    },
    "tags": []
   },
   "outputs": [
    {
     "data": {
      "text/plain": [
       "\"\\n# Step 8: Prediction and inverse transform\\ny_pred_scaled = model.predict(X_test)\\ny_pred = scaler_y.inverse_transform(y_pred_scaled)\\ny_true = scaler_y.inverse_transform(y_test)\\n\\n# Step 9: Results as DataFrame\\nresults = pd.DataFrame({\\n    'Actual Load': y_true.flatten(),\\n    'Predicted Load': y_pred.flatten()\\n})\\nresults.head()\\n\""
      ]
     },
     "execution_count": 7,
     "metadata": {},
     "output_type": "execute_result"
    }
   ],
   "source": [
    "'''\n",
    "# Step 8: Prediction and inverse transform\n",
    "y_pred_scaled = model.predict(X_test)\n",
    "y_pred = scaler_y.inverse_transform(y_pred_scaled)\n",
    "y_true = scaler_y.inverse_transform(y_test)\n",
    "\n",
    "# Step 9: Results as DataFrame\n",
    "results = pd.DataFrame({\n",
    "    'Actual Load': y_true.flatten(),\n",
    "    'Predicted Load': y_pred.flatten()\n",
    "})\n",
    "results.head()\n",
    "'''"
   ]
  },
  {
   "cell_type": "code",
   "execution_count": 8,
   "id": "440a0a78",
   "metadata": {
    "execution": {
     "iopub.execute_input": "2025-08-06T05:23:00.631845Z",
     "iopub.status.busy": "2025-08-06T05:23:00.631622Z",
     "iopub.status.idle": "2025-08-06T05:23:00.636329Z",
     "shell.execute_reply": "2025-08-06T05:23:00.635746Z"
    },
    "papermill": {
     "duration": 0.009348,
     "end_time": "2025-08-06T05:23:00.637390",
     "exception": false,
     "start_time": "2025-08-06T05:23:00.628042",
     "status": "completed"
    },
    "tags": []
   },
   "outputs": [
    {
     "data": {
      "text/plain": [
       "\"\\n# Define model\\nmodel = Sequential()\\nmodel.add(LSTM(128, return_sequences=True, input_shape=(X_train.shape[1], X_train.shape[2])))\\nmodel.add(Dropout(0.2))\\nmodel.add(LSTM(64, return_sequences=False))\\nmodel.add(Dropout(0.2))\\nmodel.add(Dense(1))\\n\\n# Compile\\nmodel.compile(optimizer='adam', loss='mse')\\n\\n# Add early stopping\\nearly_stop = EarlyStopping(monitor='val_loss', patience=10, restore_best_weights=True)\\n\\n\""
      ]
     },
     "execution_count": 8,
     "metadata": {},
     "output_type": "execute_result"
    }
   ],
   "source": [
    "\n",
    "'''\n",
    "# Define model\n",
    "model = Sequential()\n",
    "model.add(LSTM(128, return_sequences=True, input_shape=(X_train.shape[1], X_train.shape[2])))\n",
    "model.add(Dropout(0.2))\n",
    "model.add(LSTM(64, return_sequences=False))\n",
    "model.add(Dropout(0.2))\n",
    "model.add(Dense(1))\n",
    "\n",
    "# Compile\n",
    "model.compile(optimizer='adam', loss='mse')\n",
    "\n",
    "# Add early stopping\n",
    "early_stop = EarlyStopping(monitor='val_loss', patience=10, restore_best_weights=True)\n",
    "\n",
    "'''"
   ]
  },
  {
   "cell_type": "code",
   "execution_count": 9,
   "id": "aba25b9d",
   "metadata": {
    "execution": {
     "iopub.execute_input": "2025-08-06T05:23:00.644510Z",
     "iopub.status.busy": "2025-08-06T05:23:00.643899Z",
     "iopub.status.idle": "2025-08-06T05:23:02.952398Z",
     "shell.execute_reply": "2025-08-06T05:23:02.951544Z"
    },
    "papermill": {
     "duration": 2.313502,
     "end_time": "2025-08-06T05:23:02.954011",
     "exception": false,
     "start_time": "2025-08-06T05:23:00.640509",
     "status": "completed"
    },
    "tags": []
   },
   "outputs": [
    {
     "name": "stderr",
     "output_type": "stream",
     "text": [
      "I0000 00:00:1754457781.438479      19 gpu_device.cc:2022] Created device /job:localhost/replica:0/task:0/device:GPU:0 with 15513 MB memory:  -> device: 0, name: Tesla P100-PCIE-16GB, pci bus id: 0000:00:04.0, compute capability: 6.0\n",
      "/usr/local/lib/python3.11/dist-packages/keras/src/layers/rnn/rnn.py:200: UserWarning: Do not pass an `input_shape`/`input_dim` argument to a layer. When using Sequential models, prefer using an `Input(shape)` object as the first layer in the model instead.\n",
      "  super().__init__(**kwargs)\n"
     ]
    }
   ],
   "source": [
    "# Hyperparameters (chosen based on your chart)\n",
    "sequence_length = 48           # use past 2 days\n",
    "units_1 = 128                  # high capacity first LSTM layer\n",
    "units_2 = 64                   # moderate second layer\n",
    "dropout = 0.2                  # moderate regularization\n",
    "recurrent_dropout = 0.1        # stabilize memory\n",
    "batch_size = 32                # balanced batch\n",
    "learning_rate = 0.001          # tuned manually\n",
    "optimizer = RMSprop(learning_rate=learning_rate)  # often better than Adam for RNNs\n",
    "\n",
    "# Define LSTM model\n",
    "model = Sequential()\n",
    "model.add(LSTM(units_1, return_sequences=True, \n",
    "               recurrent_dropout=recurrent_dropout, \n",
    "               dropout=dropout,\n",
    "               input_shape=(X_train.shape[1], X_train.shape[2])))\n",
    "model.add(LSTM(units_2, return_sequences=False, \n",
    "               recurrent_dropout=recurrent_dropout,\n",
    "               dropout=dropout))\n",
    "model.add(Dense(1))  # Regression output\n",
    "\n",
    "# Compile with MAPE for monitoring\n",
    "model.compile(optimizer=optimizer, loss='mse', metrics=['mae', 'mape'])\n"
   ]
  },
  {
   "cell_type": "code",
   "execution_count": 10,
   "id": "0cccd8d6",
   "metadata": {
    "execution": {
     "iopub.execute_input": "2025-08-06T05:23:02.962233Z",
     "iopub.status.busy": "2025-08-06T05:23:02.961574Z",
     "iopub.status.idle": "2025-08-06T06:00:32.689637Z",
     "shell.execute_reply": "2025-08-06T06:00:32.688934Z"
    },
    "papermill": {
     "duration": 2249.733474,
     "end_time": "2025-08-06T06:00:32.691049",
     "exception": false,
     "start_time": "2025-08-06T05:23:02.957575",
     "status": "completed"
    },
    "tags": []
   },
   "outputs": [
    {
     "name": "stdout",
     "output_type": "stream",
     "text": [
      "Epoch 1/100\n",
      "\u001b[1m1806/1806\u001b[0m \u001b[32m━━━━━━━━━━━━━━━━━━━━\u001b[0m\u001b[37m\u001b[0m \u001b[1m218s\u001b[0m 114ms/step - loss: 0.0139 - mae: 0.0838 - mape: 8645.9053 - val_loss: 0.0110 - val_mae: 0.0918 - val_mape: 12.5117\n",
      "Epoch 2/100\n",
      "\u001b[1m1806/1806\u001b[0m \u001b[32m━━━━━━━━━━━━━━━━━━━━\u001b[0m\u001b[37m\u001b[0m \u001b[1m206s\u001b[0m 114ms/step - loss: 0.0037 - mae: 0.0458 - mape: 41131.1094 - val_loss: 0.0127 - val_mae: 0.0971 - val_mape: 13.0372\n",
      "Epoch 3/100\n",
      "\u001b[1m1806/1806\u001b[0m \u001b[32m━━━━━━━━━━━━━━━━━━━━\u001b[0m\u001b[37m\u001b[0m \u001b[1m205s\u001b[0m 113ms/step - loss: 0.0030 - mae: 0.0409 - mape: 31943.4727 - val_loss: 0.0137 - val_mae: 0.1055 - val_mape: 14.5017\n",
      "Epoch 4/100\n",
      "\u001b[1m1806/1806\u001b[0m \u001b[32m━━━━━━━━━━━━━━━━━━━━\u001b[0m\u001b[37m\u001b[0m \u001b[1m205s\u001b[0m 114ms/step - loss: 0.0025 - mae: 0.0374 - mape: 34961.8555 - val_loss: 0.0127 - val_mae: 0.1000 - val_mape: 13.6112\n",
      "Epoch 5/100\n",
      "\u001b[1m1806/1806\u001b[0m \u001b[32m━━━━━━━━━━━━━━━━━━━━\u001b[0m\u001b[37m\u001b[0m \u001b[1m205s\u001b[0m 114ms/step - loss: 0.0023 - mae: 0.0362 - mape: 9660.8516 - val_loss: 0.0245 - val_mae: 0.1455 - val_mape: 20.0592\n",
      "Epoch 6/100\n",
      "\u001b[1m1806/1806\u001b[0m \u001b[32m━━━━━━━━━━━━━━━━━━━━\u001b[0m\u001b[37m\u001b[0m \u001b[1m200s\u001b[0m 111ms/step - loss: 0.0023 - mae: 0.0354 - mape: 25355.8750 - val_loss: 0.0225 - val_mae: 0.1386 - val_mape: 19.0757\n",
      "Epoch 7/100\n",
      "\u001b[1m1806/1806\u001b[0m \u001b[32m━━━━━━━━━━━━━━━━━━━━\u001b[0m\u001b[37m\u001b[0m \u001b[1m197s\u001b[0m 109ms/step - loss: 0.0022 - mae: 0.0349 - mape: 19689.2188 - val_loss: 0.0230 - val_mae: 0.1426 - val_mape: 19.8534\n",
      "Epoch 8/100\n",
      "\u001b[1m1806/1806\u001b[0m \u001b[32m━━━━━━━━━━━━━━━━━━━━\u001b[0m\u001b[37m\u001b[0m \u001b[1m201s\u001b[0m 111ms/step - loss: 0.0022 - mae: 0.0344 - mape: 34885.5312 - val_loss: 0.0257 - val_mae: 0.1497 - val_mape: 20.7127\n",
      "Epoch 9/100\n",
      "\u001b[1m1806/1806\u001b[0m \u001b[32m━━━━━━━━━━━━━━━━━━━━\u001b[0m\u001b[37m\u001b[0m \u001b[1m199s\u001b[0m 110ms/step - loss: 0.0020 - mae: 0.0337 - mape: 4882.9526 - val_loss: 0.0244 - val_mae: 0.1460 - val_mape: 20.1969\n",
      "Epoch 10/100\n",
      "\u001b[1m1806/1806\u001b[0m \u001b[32m━━━━━━━━━━━━━━━━━━━━\u001b[0m\u001b[37m\u001b[0m \u001b[1m207s\u001b[0m 115ms/step - loss: 0.0021 - mae: 0.0335 - mape: 15681.2324 - val_loss: 0.0152 - val_mae: 0.1098 - val_mape: 14.9057\n",
      "Epoch 11/100\n",
      "\u001b[1m1806/1806\u001b[0m \u001b[32m━━━━━━━━━━━━━━━━━━━━\u001b[0m\u001b[37m\u001b[0m \u001b[1m207s\u001b[0m 115ms/step - loss: 0.0021 - mae: 0.0332 - mape: 7755.6885 - val_loss: 0.0141 - val_mae: 0.1067 - val_mape: 14.6069\n"
     ]
    }
   ],
   "source": [
    "from tensorflow.keras.callbacks import EarlyStopping\n",
    "\n",
    "early_stop = EarlyStopping(monitor='val_mape', patience=10, restore_best_weights=True)\n",
    "\n",
    "history = model.fit(\n",
    "    X_train, y_train,\n",
    "    validation_split=0.1,\n",
    "    epochs=100,\n",
    "    batch_size=batch_size,\n",
    "    callbacks=[early_stop],\n",
    "    verbose=1\n",
    ")\n"
   ]
  },
  {
   "cell_type": "code",
   "execution_count": 11,
   "id": "52d91ecd",
   "metadata": {
    "execution": {
     "iopub.execute_input": "2025-08-06T06:00:34.788760Z",
     "iopub.status.busy": "2025-08-06T06:00:34.788499Z",
     "iopub.status.idle": "2025-08-06T06:00:34.793600Z",
     "shell.execute_reply": "2025-08-06T06:00:34.792757Z"
    },
    "papermill": {
     "duration": 1.087402,
     "end_time": "2025-08-06T06:00:34.794898",
     "exception": false,
     "start_time": "2025-08-06T06:00:33.707496",
     "status": "completed"
    },
    "tags": []
   },
   "outputs": [
    {
     "data": {
      "text/plain": [
       "'\\n# Train\\nhistory = model.fit(\\n    X_train, y_train,\\n    epochs=100,\\n    batch_size=32,\\n    validation_split=0.1,\\n    callbacks=[early_stop],\\n    verbose=1\\n)\\n\\n\\n'"
      ]
     },
     "execution_count": 11,
     "metadata": {},
     "output_type": "execute_result"
    }
   ],
   "source": [
    "'''\n",
    "# Train\n",
    "history = model.fit(\n",
    "    X_train, y_train,\n",
    "    epochs=100,\n",
    "    batch_size=32,\n",
    "    validation_split=0.1,\n",
    "    callbacks=[early_stop],\n",
    "    verbose=1\n",
    ")\n",
    "\n",
    "\n",
    "'''"
   ]
  },
  {
   "cell_type": "code",
   "execution_count": 12,
   "id": "b59fbb15",
   "metadata": {
    "execution": {
     "iopub.execute_input": "2025-08-06T06:00:36.769662Z",
     "iopub.status.busy": "2025-08-06T06:00:36.769308Z",
     "iopub.status.idle": "2025-08-06T06:00:50.196216Z",
     "shell.execute_reply": "2025-08-06T06:00:50.195128Z"
    },
    "papermill": {
     "duration": 14.46067,
     "end_time": "2025-08-06T06:00:50.197934",
     "exception": false,
     "start_time": "2025-08-06T06:00:35.737264",
     "status": "completed"
    },
    "tags": []
   },
   "outputs": [
    {
     "name": "stdout",
     "output_type": "stream",
     "text": [
      "\u001b[1m502/502\u001b[0m \u001b[32m━━━━━━━━━━━━━━━━━━━━\u001b[0m\u001b[37m\u001b[0m \u001b[1m13s\u001b[0m 23ms/step\n"
     ]
    }
   ],
   "source": [
    "# Predict\n",
    "y_pred_scaled = model.predict(X_test)\n",
    "y_pred = scaler_y.inverse_transform(y_pred_scaled)\n",
    "y_true = scaler_y.inverse_transform(y_test)\n",
    "\n",
    "# Results\n",
    "results = pd.DataFrame({\n",
    "    'Actual Load': y_true.flatten(),\n",
    "    'Predicted Load': y_pred.flatten()\n",
    "})"
   ]
  },
  {
   "cell_type": "code",
   "execution_count": 13,
   "id": "296c089d",
   "metadata": {
    "execution": {
     "iopub.execute_input": "2025-08-06T06:00:52.309586Z",
     "iopub.status.busy": "2025-08-06T06:00:52.309034Z",
     "iopub.status.idle": "2025-08-06T06:00:52.762445Z",
     "shell.execute_reply": "2025-08-06T06:00:52.761617Z"
    },
    "papermill": {
     "duration": 1.511231,
     "end_time": "2025-08-06T06:00:52.763937",
     "exception": false,
     "start_time": "2025-08-06T06:00:51.252706",
     "status": "completed"
    },
    "tags": []
   },
   "outputs": [
    {
     "name": "stdout",
     "output_type": "stream",
     "text": [
      "📊 Mean Absolute Error (MAE): 120.63\n",
      "📊 Root Mean Squared Error (RMSE): 147.43\n",
      "📊 Mean Absolute Percentage Error (MAPE): 9.63%\n"
     ]
    },
    {
     "data": {
      "image/png": "[encoded data removed]",
      "text/plain": [
       "<Figure size 1200x500 with 1 Axes>"
      ]
     },
     "metadata": {},
     "output_type": "display_data"
    }
   ],
   "source": [
    "from sklearn.metrics import mean_absolute_error, mean_squared_error\n",
    "import matplotlib.pyplot as plt\n",
    "\n",
    "# Ensure you've already predicted and inverse-transformed:\n",
    "# y_pred = scaler_y.inverse_transform(y_pred_scaled)\n",
    "# y_true = scaler_y.inverse_transform(y_test)\n",
    "\n",
    "# 1. Evaluation metrics\n",
    "mae = mean_absolute_error(y_true, y_pred)\n",
    "rmse = np.sqrt(mean_squared_error(y_true, y_pred))\n",
    "mape = np.mean(np.abs((y_true - y_pred) / y_true)) * 100\n",
    "\n",
    "print(f\"📊 Mean Absolute Error (MAE): {mae:.2f}\")\n",
    "print(f\"📊 Root Mean Squared Error (RMSE): {rmse:.2f}\")\n",
    "print(f\"📊 Mean Absolute Percentage Error (MAPE): {mape:.2f}%\")\n",
    "\n",
    "# 2. Plot predictions\n",
    "plt.figure(figsize=(12, 5))\n",
    "plt.plot(y_true[:200], label='Actual Load')\n",
    "plt.plot(y_pred[:200], label='Predicted Load', linestyle='--')\n",
    "plt.title('LSTM Prediction vs Actual Load (First 200 samples)')\n",
    "plt.xlabel('Time step')\n",
    "plt.ylabel('Load (MW)')\n",
    "plt.legend()\n",
    "plt.grid(True)\n",
    "plt.tight_layout()\n",
    "plt.show()\n"
   ]
  },
  {
   "cell_type": "code",
   "execution_count": null,
   "id": "e2b79460",
   "metadata": {
    "papermill": {
     "duration": 0.988261,
     "end_time": "2025-08-06T06:00:54.809132",
     "exception": false,
     "start_time": "2025-08-06T06:00:53.820871",
     "status": "completed"
    },
    "tags": []
   },
   "outputs": [],
   "source": []
  }
 ],
 "metadata": {
  "kaggle": {
   "accelerator": "gpu",
   "dataSources": [
    {
     "datasetId": 8010300,
     "sourceId": 12675530,
     "sourceType": "datasetVersion"
    }
   ],
   "dockerImageVersionId": 31089,
   "isGpuEnabled": true,
   "isInternetEnabled": false,
   "language": "python",
   "sourceType": "notebook"
  },
  "kernelspec": {
   "display_name": "Python 3",
   "language": "python",
   "name": "python3"
  },
  "language_info": {
   "codemirror_mode": {
    "name": "ipython",
    "version": 3
   },
   "file_extension": ".py",
   "mimetype": "text/x-python",
   "name": "python",
   "nbconvert_exporter": "python",
   "pygments_lexer": "ipython3",
   "version": "3.11.13"
  },
  "papermill": {
   "default_parameters": {},
   "duration": 2300.305066,
   "end_time": "2025-08-06T06:00:59.425274",
   "environment_variables": {},
   "exception": null,
   "input_path": "__notebook__.ipynb",
   "output_path": "__notebook__.ipynb",
   "parameters": {},
   "start_time": "2025-08-06T05:22:39.120208",
   "version": "2.6.0"
  }
 },
 "nbformat": 4,
 "nbformat_minor": 5
}
